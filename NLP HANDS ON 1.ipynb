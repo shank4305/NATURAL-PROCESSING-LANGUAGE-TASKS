{
 "cells": [
  {
   "cell_type": "code",
   "execution_count": 1,
   "metadata": {},
   "outputs": [
    {
     "name": "stdout",
     "output_type": "stream",
     "text": [
      "showing info https://raw.githubusercontent.com/nltk/nltk_data/gh-pages/index.xml\n"
     ]
    },
    {
     "data": {
      "text/plain": [
       "True"
      ]
     },
     "execution_count": 1,
     "metadata": {},
     "output_type": "execute_result"
    }
   ],
   "source": [
    "import nltk\n",
    "nltk.download()"
   ]
  },
  {
   "cell_type": "code",
   "execution_count": 3,
   "metadata": {},
   "outputs": [
    {
     "data": {
      "text/plain": [
       "['Dan',\n",
       " 'Morgan',\n",
       " 'told',\n",
       " 'himself',\n",
       " 'he',\n",
       " 'would',\n",
       " 'forget',\n",
       " 'Ann',\n",
       " 'Turner',\n",
       " '.',\n",
       " 'He',\n",
       " 'was',\n",
       " 'well',\n",
       " 'rid',\n",
       " 'of',\n",
       " 'her',\n",
       " '.',\n",
       " 'He',\n",
       " 'certainly',\n",
       " \"didn't\",\n",
       " 'want',\n",
       " 'a',\n",
       " 'wife',\n",
       " 'who',\n",
       " 'was',\n",
       " 'fickle',\n",
       " 'as',\n",
       " 'Ann',\n",
       " '.',\n",
       " 'If',\n",
       " 'he',\n",
       " 'had',\n",
       " 'married',\n",
       " 'her',\n",
       " ',',\n",
       " \"he'd\",\n",
       " 'have',\n",
       " 'been',\n",
       " 'asking',\n",
       " 'for',\n",
       " 'trouble',\n",
       " '.',\n",
       " 'But',\n",
       " 'all',\n",
       " 'of',\n",
       " 'this',\n",
       " 'was',\n",
       " 'rationalization',\n",
       " '.',\n",
       " 'Sometimes']"
      ]
     },
     "execution_count": 3,
     "metadata": {},
     "output_type": "execute_result"
    }
   ],
   "source": [
    "from nltk.corpus import brown\n",
    "#brown.categories()\n",
    "brown.words(categories='adventure')[:50]"
   ]
  },
  {
   "cell_type": "code",
   "execution_count": 21,
   "metadata": {},
   "outputs": [
    {
     "data": {
      "text/plain": [
       "['Assembly',\n",
       " 'session',\n",
       " 'brought',\n",
       " 'much',\n",
       " 'good',\n",
       " 'The',\n",
       " 'General',\n",
       " 'Assembly',\n",
       " ',',\n",
       " 'which',\n",
       " 'adjourns',\n",
       " 'today',\n",
       " ',',\n",
       " 'has',\n",
       " 'performed',\n",
       " 'in',\n",
       " 'an',\n",
       " 'atmosphere',\n",
       " 'of',\n",
       " 'crisis',\n",
       " 'and',\n",
       " 'struggle',\n",
       " 'from',\n",
       " 'the',\n",
       " 'day',\n",
       " 'it',\n",
       " 'convened',\n",
       " '.',\n",
       " 'It',\n",
       " 'was',\n",
       " 'faced',\n",
       " 'immediately',\n",
       " 'with',\n",
       " 'a',\n",
       " 'showdown',\n",
       " 'on',\n",
       " 'the',\n",
       " 'schools',\n",
       " ',',\n",
       " 'an',\n",
       " 'issue',\n",
       " 'which',\n",
       " 'was',\n",
       " 'met',\n",
       " 'squarely',\n",
       " 'in',\n",
       " 'conjunction',\n",
       " 'with',\n",
       " 'the',\n",
       " 'governor']"
      ]
     },
     "execution_count": 21,
     "metadata": {},
     "output_type": "execute_result"
    }
   ],
   "source": [
    "from nltk.corpus import brown\n",
    "brown.words(categories='editorial')[:50]"
   ]
  },
  {
   "cell_type": "code",
   "execution_count": 5,
   "metadata": {},
   "outputs": [
    {
     "data": {
      "text/plain": [
       "['1789-Washington.txt',\n",
       " '1793-Washington.txt',\n",
       " '1797-Adams.txt',\n",
       " '1801-Jefferson.txt',\n",
       " '1805-Jefferson.txt',\n",
       " '1809-Madison.txt',\n",
       " '1813-Madison.txt',\n",
       " '1817-Monroe.txt',\n",
       " '1821-Monroe.txt',\n",
       " '1825-Adams.txt',\n",
       " '1829-Jackson.txt',\n",
       " '1833-Jackson.txt',\n",
       " '1837-VanBuren.txt',\n",
       " '1841-Harrison.txt',\n",
       " '1845-Polk.txt',\n",
       " '1849-Taylor.txt',\n",
       " '1853-Pierce.txt',\n",
       " '1857-Buchanan.txt',\n",
       " '1861-Lincoln.txt',\n",
       " '1865-Lincoln.txt',\n",
       " '1869-Grant.txt',\n",
       " '1873-Grant.txt',\n",
       " '1877-Hayes.txt',\n",
       " '1881-Garfield.txt',\n",
       " '1885-Cleveland.txt',\n",
       " '1889-Harrison.txt',\n",
       " '1893-Cleveland.txt',\n",
       " '1897-McKinley.txt',\n",
       " '1901-McKinley.txt',\n",
       " '1905-Roosevelt.txt',\n",
       " '1909-Taft.txt',\n",
       " '1913-Wilson.txt',\n",
       " '1917-Wilson.txt',\n",
       " '1921-Harding.txt',\n",
       " '1925-Coolidge.txt',\n",
       " '1929-Hoover.txt',\n",
       " '1933-Roosevelt.txt',\n",
       " '1937-Roosevelt.txt',\n",
       " '1941-Roosevelt.txt',\n",
       " '1945-Roosevelt.txt',\n",
       " '1949-Truman.txt',\n",
       " '1953-Eisenhower.txt',\n",
       " '1957-Eisenhower.txt',\n",
       " '1961-Kennedy.txt',\n",
       " '1965-Johnson.txt',\n",
       " '1969-Nixon.txt',\n",
       " '1973-Nixon.txt',\n",
       " '1977-Carter.txt',\n",
       " '1981-Reagan.txt',\n",
       " '1985-Reagan.txt',\n",
       " '1989-Bush.txt',\n",
       " '1993-Clinton.txt',\n",
       " '1997-Clinton.txt',\n",
       " '2001-Bush.txt',\n",
       " '2005-Bush.txt',\n",
       " '2009-Obama.txt',\n",
       " '2013-Obama.txt',\n",
       " '2017-Trump.txt']"
      ]
     },
     "execution_count": 5,
     "metadata": {},
     "output_type": "execute_result"
    }
   ],
   "source": [
    "from nltk.corpus import inaugural\n",
    "inaugural.fileids()"
   ]
  },
  {
   "cell_type": "code",
   "execution_count": 4,
   "metadata": {},
   "outputs": [
    {
     "data": {
      "text/plain": [
       "['My',\n",
       " 'fellow',\n",
       " 'citizens',\n",
       " ':',\n",
       " 'I',\n",
       " 'stand',\n",
       " 'here',\n",
       " 'today',\n",
       " 'humbled',\n",
       " 'by',\n",
       " 'the',\n",
       " 'task',\n",
       " 'before',\n",
       " 'us',\n",
       " ',',\n",
       " 'grateful',\n",
       " 'for',\n",
       " 'the',\n",
       " 'trust',\n",
       " 'you',\n",
       " 'have',\n",
       " 'bestowed',\n",
       " ',',\n",
       " 'mindful',\n",
       " 'of',\n",
       " 'the',\n",
       " 'sacrifices',\n",
       " 'borne',\n",
       " 'by',\n",
       " 'our',\n",
       " 'ancestors',\n",
       " '.',\n",
       " 'I',\n",
       " 'thank',\n",
       " 'President',\n",
       " 'Bush',\n",
       " 'for',\n",
       " 'his',\n",
       " 'service',\n",
       " 'to',\n",
       " 'our',\n",
       " 'nation',\n",
       " ',',\n",
       " 'as',\n",
       " 'well',\n",
       " 'as',\n",
       " 'the',\n",
       " 'generosity',\n",
       " 'and',\n",
       " 'cooperation']"
      ]
     },
     "execution_count": 4,
     "metadata": {},
     "output_type": "execute_result"
    }
   ],
   "source": [
    "from nltk.corpus import inaugural\n",
    "inaugural.words(fileids = '2009-Obama.txt')[:50]"
   ]
  },
  {
   "cell_type": "code",
   "execution_count": 4,
   "metadata": {},
   "outputs": [
    {
     "data": {
      "text/plain": [
       "'My fellow citizens : I stand here today humbled by the task before us , grateful for the trust you have bestowed , mindful of the sacrifices borne by our ancestors . I thank President Bush for his service to our nation , as well as the generosity and cooperation he has shown throughout this transition . Forty - four Americans have now taken the presidential oath . The words have been spoken during rising tides of prosperity and the still waters of peace . Yet , every so often the oath is taken amidst gathering clouds and raging storms . At these moments , America has carried on not simply because of the skill or vision of those in high office , but because We the People have remained faithful to the ideals of our forbearers , and true to our founding documents . So it has been . So it must be with this generation of Americans . That we are in the midst of crisis is now well understood . Our nation is at war , against a far - reaching network of violence and hatred . Our economy is badly weakened , a consequence of greed and irresponsibility on the part of some , but also our collective failure to make hard choices and prepare the nation for a new age . Homes have been lost ; jobs shed ; businesses shuttered . Our health care is too costly ; our schools fail too many ; and each day brings further evidence that the ways we use energy strengthen our adversaries and threaten our planet . These are the indicators of crisis , subject to data and statistics . Less measurable but no less profound is a sapping of confidence across our land -- a nagging fear that America \\' s decline is inevitable , that the next generation must lower its sights . Today I say to you that the challenges we face are real . They are serious and they are many . They will not be met easily or in a short span of time . But know this , America -- they will be met . On this day , we gather because we have chosen hope over fear , unity of purpose over conflict and discord . On this day , we come to proclaim an end to the petty grievances and false promises , the recriminations and worn - out dogmas that for far too long have strangled our politics . We remain a young nation , but in the words of Scripture , the time has come to set aside childish things . The time has come to reaffirm our enduring spirit ; to choose our better history ; to carry forward that precious gift , that noble idea , passed on from generation to generation : the God - given promise that all are equal , all are free , and all deserve a chance to pursue their full measure of happiness . In reaffirming the greatness of our nation , we understand that greatness is never a given . It must be earned . Our journey has never been one of shortcuts or settling for less . It has not been the path for the faint - hearted -- for those who prefer leisure over work , or seek only the pleasures of riches and fame . Rather , it has been the risk - takers , the doers , the makers of things \\' some celebrated but more often men and women obscure in their labor , who have carried us up the long , rugged path towards prosperity and freedom . For us , they packed up their few worldly possessions and traveled across oceans in search of a new life . For us , they toiled in sweatshops and settled the West ; endured the lash of the whip and plowed the hard earth . For us , they fought and died , in places like Concord and Gettysburg ; Normandy and Khe Sahn . Time and again these men and women struggled and sacrificed and worked till their hands were raw so that we might live a better life . They saw America as bigger than the sum of our individual ambitions ; greater than all the differences of birth or wealth or faction . This is the journey we continue today . We remain the most prosperous , powerful nation on Earth . Our workers are no less productive than when this crisis began . Our minds are no less inventive , our goods and services no less needed than they were last week or last month or last year . Our capacity remains undiminished . But our time of standing pat , of protecting narrow interests and putting off unpleasant decisions -- that time has surely passed . Starting today , we must pick ourselves up , dust ourselves off , and begin again the work of remaking America . For everywhere we look , there is work to be done . The state of our economy calls for action , bold and swift , and we will act -- not only to create new jobs , but to lay a new foundation for growth . We will build the roads and bridges , the electric grids and digital lines that feed our commerce and bind us together . We will restore science to its rightful place , and wield technology \\' s wonders to raise health care \\' s quality and lower its cost . We will harness the sun and the winds and the soil to fuel our cars and run our factories . And we will transform our schools and colleges and universities to meet the demands of a new age . All this we can do . All this we will do . Now , there are some who question the scale of our ambitions -- who suggest that our system cannot tolerate too many big plans . Their memories are short . For they have forgotten what this country has already done ; what free men and women can achieve when imagination is joined to common purpose , and necessity to courage . What the cynics fail to understand is that the ground has shifted beneath them -- that the stale political arguments that have consumed us for so long no longer apply . The question we ask today is not whether our government is too big or too small , but whether it works -- whether it helps families find jobs at a decent wage , care they can afford , a retirement that is dignified . Where the answer is yes , we intend to move forward . Where the answer is no , programs will end . And those of us who manage the public \\' s dollars will be held to account -- to spend wisely , reform bad habits , and do our business in the light of day -- because only then can we restore the vital trust between a people and their government . Nor is the question before us whether the market is a force for good or ill . Its power to generate wealth and expand freedom is unmatched , but this crisis has reminded us that without a watchful eye , the market can spin out of control -- the nation cannot prosper long when it favors only the prosperous . The success of our economy has always depended not just on the size of our Gross Domestic Product , but on the reach of our prosperity ; on the ability to extend opportunity to every willing heart -- not out of charity , but because it is the surest route to our common good . As for our common defense , we reject as false the choice between our safety and our ideals . Our Founding Fathers , faced with perils that we can scarcely imagine , drafted a charter to assure the rule of law and the rights of man , a charter expanded by the blood of generations . Those ideals still light the world , and we will not give them up for expedience \\' s sake . And so to all the other peoples and governments who are watching today , from the grandest capitals to the small village where my father was born : know that America is a friend of each nation and every man , woman , and child who seeks a future of peace and dignity , and we are ready to lead once more . Recall that earlier generations faced down fascism and communism not just with missiles and tanks , but with the sturdy alliances and enduring convictions . They understood that our power alone cannot protect us , nor does it entitle us to do as we please . Instead , they knew that our power grows through its prudent use ; our security emanates from the justness of our cause , the force of our example , the tempering qualities of humility and restraint . We are the keepers of this legacy . Guided by these principles once more , we can meet those new threats that demand even greater effort -- even greater cooperation and understanding between nations . We will begin to responsibly leave Iraq to its people , and forge a hard - earned peace in Afghanistan . With old friends and former foes , we will work tirelessly to lessen the nuclear threat , and roll back the specter of a warming planet . We will not apologize for our way of life , nor will we waver in its defense , and for those who seek to advance their aims by inducing terror and slaughtering innocents , we say to you now that our spirit is stronger and cannot be broken ; you cannot outlast us , and we will defeat you . For we know that our patchwork heritage is a strength , not a weakness . We are a nation of Christians and Muslims , Jews and Hindus -- and non - believers . We are shaped by every language and culture , drawn from every end of this Earth ; and because we have tasted the bitter swill of civil war and segregation , and emerged from that dark chapter stronger and more united , we cannot help but believe that the old hatreds shall someday pass ; that the lines of tribe shall soon dissolve ; that as the world grows smaller , our common humanity shall reveal itself ; and that America must play its role in ushering in a new era of peace . To the Muslim world , we seek a new way forward , based on mutual interest and mutual respect . To those leaders around the globe who seek to sow conflict , or blame their society \\' s ills on the West -- know that your people will judge you on what you can build , not what you destroy . To those who cling to power through corruption and deceit and the silencing of dissent , know that you are on the wrong side of history ; but that we will extend a hand if you are willing to unclench your fist . To the people of poor nations , we pledge to work alongside you to make your farms flourish and let clean waters flow ; to nourish starved bodies and feed hungry minds . And to those nations like ours that enjoy relative plenty , we say we can no longer afford indifference to the suffering outside our borders ; nor can we consume the world \\' s resources without regard to effect . For the world has changed , and we must change with it . As we consider the road that unfolds before us , we remember with humble gratitude those brave Americans who , at this very hour , patrol far - off deserts and distant mountains . They have something to tell us , just as the fallen heroes who lie in Arlington whisper through the ages . We honor them not only because they are the guardians of our liberty , but because they embody the spirit of service ; a willingness to find meaning in something greater than themselves . And yet , at this moment -- a moment that will define a generation -- it is precisely this spirit that must inhabit us all . For as much as government can do and must do , it is ultimately the faith and determination of the American people upon which this nation relies . It is the kindness to take in a stranger when the levees break , the selflessness of workers who would rather cut their hours than see a friend lose their job which sees us through our darkest hours . It is the firefighter \\' s courage to storm a stairway filled with smoke , but also a parent \\' s willingness to nurture a child , that finally decides our fate . Our challenges may be new . The instruments with which we meet them may be new . But those values upon which our success depends -- honesty and hard work , courage and fair play , tolerance and curiosity , loyalty and patriotism -- these things are old . These things are true . They have been the quiet force of progress throughout our history . What is demanded then is a return to these truths . What is required of us now is a new era of responsibility -- a recognition , on the part of every American , that we have duties to ourselves , our nation , and the world , duties that we do not grudgingly accept but rather seize gladly , firm in the knowledge that there is nothing so satisfying to the spirit , so defining of our character , than giving our all to a difficult task . This is the price and the promise of citizenship . This is the source of our confidence -- the knowledge that God calls on us to shape an uncertain destiny . This is the meaning of our liberty and our creed -- why men and women and children of every race and every faith can join in celebration across this magnificent mall , and why a man whose father less than sixty years ago might not have been served at a local restaurant can now stand before you to take a most sacred oath . So let us mark this day with remembrance , of who we are and how far we have traveled . In the year of America \\' s birth , in the coldest of months , a small band of patriots huddled by dying campfires on the shores of an icy river . The capital was abandoned . The enemy was advancing . The snow was stained with blood . At a moment when the outcome of our revolution was most in doubt , the father of our nation ordered these words be read to the people : \" Let it be told to the future world ... that in the depth of winter , when nothing but hope and virtue could survive ... that the city and the country , alarmed at one common danger , came forth to meet ... it .\" America ! In the face of our common dangers , in this winter of our hardship , let us remember these timeless words . With hope and virtue , let us brave once more the icy currents , and endure what storms may come . Let it be said by our children \\' s children that when we were tested we refused to let this journey end , that we did not turn back nor did we falter ; and with eyes fixed on the horizon and God \\' s grace upon us , we carried forth that great gift of freedom and delivered it safely to future generations . Thank you . God bless you . And God bless the United States of America .'"
      ]
     },
     "execution_count": 4,
     "metadata": {},
     "output_type": "execute_result"
    }
   ],
   "source": [
    "from nltk.corpus import inaugural\n",
    "FileName='2009-Obama.txt'\n",
    "text=' '.join(inaugural.words(fileids=FileName))\n",
    "text"
   ]
  },
  {
   "cell_type": "code",
   "execution_count": 6,
   "metadata": {},
   "outputs": [
    {
     "data": {
      "text/plain": [
       "['firefox.txt',\n",
       " 'grail.txt',\n",
       " 'overheard.txt',\n",
       " 'pirates.txt',\n",
       " 'singles.txt',\n",
       " 'wine.txt']"
      ]
     },
     "execution_count": 6,
     "metadata": {},
     "output_type": "execute_result"
    }
   ],
   "source": [
    "from nltk.corpus import webtext\n",
    "webtext.fileids()"
   ]
  },
  {
   "cell_type": "code",
   "execution_count": 11,
   "metadata": {},
   "outputs": [
    {
     "data": {
      "text/plain": [
       "FreqDist({',': 130, 'the': 126, '.': 108, 'and': 105, 'of': 82, 'to': 66, 'our': 58, 'we': 50, 'that': 48, 'a': 47, ...})"
      ]
     },
     "execution_count": 11,
     "metadata": {},
     "output_type": "execute_result"
    }
   ],
   "source": [
    "fd=nltk.FreqDist(text.split())\n",
    "fd"
   ]
  },
  {
   "cell_type": "code",
   "execution_count": 10,
   "metadata": {},
   "outputs": [
    {
     "data": {
      "text/plain": [
       "FreqDist({'nation': 12, 'cannot': 6, 'common': 6, 'people': 6, 'spirit': 5, 'before': 4, 'crisis': 4, 'things': 4, 'ideals': 3, 'across': 3, ...})"
      ]
     },
     "execution_count": 10,
     "metadata": {},
     "output_type": "execute_result"
    }
   ],
   "source": [
    "from nltk.probability import ConditionalFreqDist\n",
    "cfd = ConditionalFreqDist((len(word),word)for word in text.split())\n",
    "cfd[6]"
   ]
  },
  {
   "cell_type": "code",
   "execution_count": 19,
   "metadata": {},
   "outputs": [
    {
     "data": {
      "text/plain": [
       "FreqDist({'a': 5, 'of': 5, 'is': 3, 'object': 2, 'that': 2, 'In': 1, 'literary': 1, 'theory,': 1, 'text': 1, 'any': 1, ...})"
      ]
     },
     "execution_count": 19,
     "metadata": {},
     "output_type": "execute_result"
    }
   ],
   "source": [
    "import nltk\n",
    "text11='In literary theory, a text is any object that can be \"read\", whether this object is a work of literature, a street sign, an arrangement of buildings on a city block, or styles of clothing. It is a coherent set of signs that transmits some kind of informative message'\n",
    "fd=nltk.FreqDist(text11.split())\n",
    "fd"
   ]
  },
  {
   "cell_type": "code",
   "execution_count": 23,
   "metadata": {},
   "outputs": [
    {
     "name": "stdout",
     "output_type": "stream",
     "text": [
      "Collecting wordcloud\n",
      "  Downloading wordcloud-1.8.0-cp37-cp37m-win_amd64.whl (157 kB)\n",
      "Requirement already satisfied: pillow in c:\\users\\budem\\anaconda3\\lib\\site-packages (from wordcloud) (7.0.0)\n",
      "Requirement already satisfied: numpy>=1.6.1 in c:\\users\\budem\\anaconda3\\lib\\site-packages (from wordcloud) (1.18.1)\n",
      "Requirement already satisfied: matplotlib in c:\\users\\budem\\anaconda3\\lib\\site-packages (from wordcloud) (3.1.3)\n",
      "Requirement already satisfied: pyparsing!=2.0.4,!=2.1.2,!=2.1.6,>=2.0.1 in c:\\users\\budem\\anaconda3\\lib\\site-packages (from matplotlib->wordcloud) (2.4.6)\n",
      "Requirement already satisfied: python-dateutil>=2.1 in c:\\users\\budem\\anaconda3\\lib\\site-packages (from matplotlib->wordcloud) (2.8.1)\n",
      "Requirement already satisfied: kiwisolver>=1.0.1 in c:\\users\\budem\\anaconda3\\lib\\site-packages (from matplotlib->wordcloud) (1.1.0)\n",
      "Requirement already satisfied: cycler>=0.10 in c:\\users\\budem\\anaconda3\\lib\\site-packages (from matplotlib->wordcloud) (0.10.0)\n",
      "Requirement already satisfied: six>=1.5 in c:\\users\\budem\\anaconda3\\lib\\site-packages (from python-dateutil>=2.1->matplotlib->wordcloud) (1.14.0)\n",
      "Requirement already satisfied: setuptools in c:\\users\\budem\\anaconda3\\lib\\site-packages (from kiwisolver>=1.0.1->matplotlib->wordcloud) (45.2.0.post20200210)\n",
      "Installing collected packages: wordcloud\n",
      "Successfully installed wordcloud-1.8.0\n"
     ]
    }
   ],
   "source": [
    "!pip install wordcloud"
   ]
  },
  {
   "cell_type": "code",
   "execution_count": 24,
   "metadata": {},
   "outputs": [],
   "source": [
    "from wordcloud import WordCloud, STOPWORDS\n",
    "import matplotlib.pyplot as plt\n",
    "import pandas as pd"
   ]
  },
  {
   "cell_type": "code",
   "execution_count": 25,
   "metadata": {},
   "outputs": [],
   "source": [
    "stopwords= STOPWORDS\n",
    "wordcloud= WordCloud(width = 500, height = 700,\n",
    "                   background_color='pink',\n",
    "                   stopwords = stopwords,\n",
    "                   min_font_size= 12).generate(text)"
   ]
  },
  {
   "cell_type": "code",
   "execution_count": 30,
   "metadata": {},
   "outputs": [
    {
     "data": {
      "image/png": "[encoded data removed]",
      "text/plain": [
       "<Figure size 360x504 with 1 Axes>"
      ]
     },
     "metadata": {
      "needs_background": "light"
     },
     "output_type": "display_data"
    }
   ],
   "source": [
    "plt.figure(figsize= (5,7), facecolor = None)\n",
    "plt.imshow(wordcloud)\n",
    "plt.axis(\"off\")\n",
    "plt.tight_layout( pad=0)\n",
    "plt.show()"
   ]
  },
  {
   "cell_type": "code",
   "execution_count": null,
   "metadata": {},
   "outputs": [],
   "source": []
  }
 ],
 "metadata": {
  "kernelspec": {
   "display_name": "Python 3",
   "language": "python",
   "name": "python3"
  },
  "language_info": {
   "codemirror_mode": {
    "name": "ipython",
    "version": 3
   },
   "file_extension": ".py",
   "mimetype": "text/x-python",
   "name": "python",
   "nbconvert_exporter": "python",
   "pygments_lexer": "ipython3",
   "version": "3.7.6"
  }
 },
 "nbformat": 4,
 "nbformat_minor": 4
}
